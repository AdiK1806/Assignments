{
  "nbformat": 4,
  "nbformat_minor": 0,
  "metadata": {
    "kernelspec": {
      "display_name": "Python 3",
      "language": "python",
      "name": "python3"
    },
    "language_info": {
      "codemirror_mode": {
        "name": "ipython",
        "version": 3
      },
      "file_extension": ".py",
      "mimetype": "text/x-python",
      "name": "python",
      "nbconvert_exporter": "python",
      "pygments_lexer": "ipython3",
      "version": "3.6.9"
    },
    "colab": {
      "name": "Alphabet_ELC_code.ipynb",
      "provenance": []
    }
  },
  "cells": [
    {
      "cell_type": "code",
      "metadata": {
        "colab": {
          "base_uri": "https://localhost:8080/"
        },
        "id": "G2FSfxeEsuXQ",
        "outputId": "7c752c61-94c8-45e7-83ff-e436b4547d9b"
      },
      "source": [
        "from google.colab import drive\n",
        "drive.mount('/content/drive')"
      ],
      "execution_count": 1,
      "outputs": [
        {
          "output_type": "stream",
          "text": [
            "Mounted at /content/drive\n"
          ],
          "name": "stdout"
        }
      ]
    },
    {
      "cell_type": "code",
      "metadata": {
        "id": "HjapVrYLo1vL"
      },
      "source": [
        "import io\n",
        "import os\n",
        "from PIL import Image\n",
        "import numpy as np\n",
        "import matplotlib.pyplot as plt\n",
        "from scipy import fftpack\n",
        "from scipy import ndimage\n",
        "from sklearn import svm, metrics\n",
        "\n",
        "from sklearn.metrics import classification_report, confusion_matrix\n",
        "import imageio\n",
        "import matplotlib.image as mpimage\n",
        "import cv2\n",
        "import glob\n",
        "import h5py\n",
        "from sklearn.preprocessing import LabelEncoder\n",
        "from sklearn.preprocessing import MinMaxScaler\n",
        "import matplotlib.pyplot as plt\n",
        "from sklearn.model_selection import train_test_split, cross_val_score, GridSearchCV\n",
        "import datetime as dt\n",
        "from six.moves import range"
      ],
      "execution_count": 2,
      "outputs": []
    },
    {
      "cell_type": "code",
      "metadata": {
        "id": "vdHTSHmFs7Mc"
      },
      "source": [
        "# !unzip /content/drive/MyDrive/elc/train_EC.zip -d /content/drive/MyDrive/elc/"
      ],
      "execution_count": 4,
      "outputs": []
    },
    {
      "cell_type": "code",
      "metadata": {
        "id": "Qr58qYK-o1vR"
      },
      "source": [
        "train_path=\"/content/drive/MyDrive/elc/train_EC\""
      ],
      "execution_count": 5,
      "outputs": []
    },
    {
      "cell_type": "code",
      "metadata": {
        "colab": {
          "base_uri": "https://localhost:8080/"
        },
        "id": "V5j20PX5o1vS",
        "outputId": "93695f7d-7aa2-4581-efdc-2b33eff4886c"
      },
      "source": [
        "train_labels=os.listdir(train_path)\n",
        "\n",
        "train_labels.sort()\n",
        "\n",
        "print(train_labels)\n",
        "nb_classes= 5\n",
        "global_features_train=[]\n",
        "train_classes=[]\n",
        "\n",
        "\n",
        "\n",
        "i,j=0,0\n",
        "k=0"
      ],
      "execution_count": 6,
      "outputs": [
        {
          "output_type": "stream",
          "text": [
            "['a', 'b', 'c', 'd', 'e', 'f', 'g', 'h', 'i', 'j']\n"
          ],
          "name": "stdout"
        }
      ]
    },
    {
      "cell_type": "code",
      "metadata": {
        "colab": {
          "base_uri": "https://localhost:8080/"
        },
        "id": "2ElR7oYjo1vT",
        "outputId": "4cccfacb-063d-4789-83f9-9d527b541309"
      },
      "source": [
        "from matplotlib.pyplot import imread\n",
        "for training_name in train_labels:\n",
        "    path=os.path.join(train_path,training_name,'*')\n",
        "    files=glob.glob(path)\n",
        "    current_label=training_name\n",
        "    k=1\n",
        "    for fl in files:\n",
        "        image=imread(fl)\n",
        "        global_feature=np.hstack([image])\n",
        "        train_classes.append(current_label)\n",
        "        global_features_train.append(global_feature)\n",
        "\n",
        "        i+=1\n",
        "        k+1\n",
        "    print(\"[status] processed folder: {}\".format(current_label))\n",
        "    j+=1\n",
        "print(\"[status] completed global feature extraction..\")\n",
        "print(\"[status] feature vector size {}\".format(np.array(global_features_train).shape))\n",
        "print(\"[status] training labels {}\".format(np.array(train_classes).shape))\n"
      ],
      "execution_count": 7,
      "outputs": [
        {
          "output_type": "stream",
          "text": [
            "[status] processed folder: a\n",
            "[status] processed folder: b\n",
            "[status] processed folder: c\n",
            "[status] processed folder: d\n",
            "[status] processed folder: e\n",
            "[status] processed folder: f\n",
            "[status] processed folder: g\n",
            "[status] processed folder: h\n",
            "[status] processed folder: i\n",
            "[status] processed folder: j\n",
            "[status] completed global feature extraction..\n",
            "[status] feature vector size (835, 32, 32)\n",
            "[status] training labels (835,)\n"
          ],
          "name": "stdout"
        }
      ]
    },
    {
      "cell_type": "code",
      "metadata": {
        "colab": {
          "base_uri": "https://localhost:8080/"
        },
        "id": "UkHHx1pko1vV",
        "outputId": "afd1eb88-f72c-4144-d72d-06df4705f91c"
      },
      "source": [
        "#labels = (np.arange(nb_classes) == labels[:,None]).astype(np.float32)\n",
        "targetNames=np.unique(train_classes)\n",
        "le=LabelEncoder()\n",
        "target=le.fit_transform(train_classes)\n",
        "print(\"[status] training labels encoded...\")"
      ],
      "execution_count": 8,
      "outputs": [
        {
          "output_type": "stream",
          "text": [
            "[status] training labels encoded...\n"
          ],
          "name": "stdout"
        }
      ]
    },
    {
      "cell_type": "code",
      "metadata": {
        "id": "s6e2Nd1ao1vW"
      },
      "source": [
        "n_samples, nx, ny=np.array(global_features_train).shape\n",
        "d2_global_features=np.array(global_features_train).reshape((n_samples, nx*ny))\n",
        "#scaler=MinMaxScaler(feature_range=(0,1))\n",
        "#rescaled_features=scaler.fit_transform(d2_global_features)"
      ],
      "execution_count": 10,
      "outputs": []
    },
    {
      "cell_type": "code",
      "metadata": {
        "colab": {
          "base_uri": "https://localhost:8080/"
        },
        "id": "HI7Wo5J2o1vX",
        "outputId": "e14223f5-b9c3-4867-a4ec-41700cba2f00"
      },
      "source": [
        "print(\"[Status] feature vector normalized...\")\n",
        "\n",
        "print(\"[Status] target label{}\".format(target))\n",
        "print(\"[Status] target label shape {}\".format(target.shape))\n"
      ],
      "execution_count": 11,
      "outputs": [
        {
          "output_type": "stream",
          "text": [
            "[Status] feature vector normalized...\n",
            "[Status] target label[0 0 0 0 0 0 0 0 0 0 0 0 0 0 0 0 0 0 0 0 0 0 0 0 0 0 0 0 0 0 0 0 0 0 0 0 0\n",
            " 0 0 0 0 0 0 0 0 0 0 0 0 0 0 0 0 0 0 0 0 0 0 0 0 0 0 0 0 0 0 0 0 0 0 0 0 0\n",
            " 0 0 0 0 0 0 0 0 0 0 0 0 0 0 0 0 0 0 0 0 0 0 0 0 0 0 1 1 1 1 1 1 1 1 1 1 1\n",
            " 1 1 1 1 1 1 1 1 1 1 1 1 1 1 1 1 1 1 1 1 1 1 1 1 1 1 1 1 1 1 1 1 1 1 1 1 1\n",
            " 1 1 1 1 1 1 1 1 1 1 1 1 1 1 1 1 1 1 1 1 1 1 1 1 1 1 1 1 1 1 1 1 1 1 1 1 1\n",
            " 1 1 1 1 1 1 1 1 1 1 1 1 1 1 1 2 2 2 2 2 2 2 2 2 2 2 2 2 2 2 2 2 2 2 2 2 2\n",
            " 2 2 2 2 2 2 2 2 2 2 2 2 2 2 2 2 2 2 2 2 2 2 2 2 2 2 2 2 2 2 2 2 2 2 2 2 2\n",
            " 2 2 2 2 2 2 2 2 2 2 2 2 2 2 2 2 2 2 2 2 2 2 2 2 2 2 2 2 2 2 2 2 2 2 2 2 2\n",
            " 2 2 2 2 3 3 3 3 3 3 3 3 3 3 3 3 3 3 3 3 3 3 3 3 3 3 3 3 3 3 3 3 3 3 3 3 3\n",
            " 3 3 3 3 3 3 3 3 3 3 3 3 3 3 3 3 3 3 3 3 3 3 3 3 3 3 3 3 3 3 3 3 3 3 3 3 3\n",
            " 3 3 3 3 3 3 3 3 3 3 3 3 3 3 3 3 3 3 3 3 3 3 3 3 3 3 3 3 3 4 4 4 4 4 4 4 4\n",
            " 4 4 4 4 4 4 4 4 4 4 4 4 4 4 4 4 4 4 4 4 4 4 4 4 4 4 4 4 4 4 4 4 4 4 4 4 4\n",
            " 4 4 4 4 4 4 4 4 4 4 4 4 4 4 4 4 4 4 4 4 4 4 4 4 4 4 4 4 4 4 4 4 4 4 4 4 4\n",
            " 4 4 4 4 4 4 4 4 4 4 4 4 4 4 4 4 4 4 5 5 5 5 5 5 5 5 5 5 5 5 5 5 5 5 5 5 5\n",
            " 5 5 5 5 5 5 5 5 5 5 5 5 5 5 5 5 5 5 5 5 5 5 5 5 5 5 5 5 5 5 5 5 5 5 5 6 6\n",
            " 6 6 6 6 6 6 6 6 6 6 6 6 6 6 6 6 6 6 6 6 6 6 6 6 6 6 6 6 6 6 6 6 6 6 6 6 6\n",
            " 6 6 6 6 6 6 6 6 6 6 6 6 6 6 6 6 6 6 6 6 6 6 6 6 6 6 6 6 6 6 6 6 6 6 6 6 6\n",
            " 6 6 6 6 6 6 6 6 6 6 6 6 6 6 6 6 6 6 6 6 6 6 6 6 7 7 7 7 7 7 7 7 7 7 7 7 7\n",
            " 7 7 7 7 7 7 7 7 7 7 7 7 7 7 7 7 7 7 7 7 7 7 7 7 7 7 7 7 7 7 7 7 7 7 7 7 7\n",
            " 7 7 7 7 7 7 7 7 7 7 7 7 7 7 7 7 7 7 7 7 7 7 7 7 7 7 7 7 7 7 7 7 7 7 7 7 7\n",
            " 7 7 7 7 7 7 7 7 7 7 7 7 7 8 8 8 8 8 8 8 8 8 8 8 8 8 8 8 8 8 8 8 8 8 8 8 8\n",
            " 8 8 8 8 9 9 9 9 9 9 9 9 9 9 9 9 9 9 9 9 9 9 9 9 9 9 9 9 9 9 9 9 9 9 9 9 9\n",
            " 9 9 9 9 9 9 9 9 9 9 9 9 9 9 9 9 9 9 9 9 9]\n",
            "[Status] target label shape (835,)\n"
          ],
          "name": "stdout"
        }
      ]
    },
    {
      "cell_type": "code",
      "metadata": {
        "colab": {
          "base_uri": "https://localhost:8080/"
        },
        "id": "5LBhDBkzo1vY",
        "outputId": "728cf3d7-638b-4be4-909b-2db0a2acc309"
      },
      "source": [
        "h5f_data=h5py.File('/content/drive/MyDrive/elc/dataelc.h5','w')\n",
        "h5f_data.create_dataset('dataset_1',data=np.array(d2_global_features))\n",
        "\n",
        "h5f_label=h5py.File('/content/drive/MyDrive/elc/labelselc.h5','w')\n",
        "h5f_label.create_dataset('dataset_1',data=np.array(target))"
      ],
      "execution_count": 14,
      "outputs": [
        {
          "output_type": "execute_result",
          "data": {
            "text/plain": [
              "<HDF5 dataset \"dataset_1\": shape (835,), type \"<i8\">"
            ]
          },
          "metadata": {
            "tags": []
          },
          "execution_count": 14
        }
      ]
    },
    {
      "cell_type": "code",
      "metadata": {
        "id": "R-20GiH6o1vZ"
      },
      "source": [
        "h5f_data.close()\n",
        "h5f_label.close()"
      ],
      "execution_count": 15,
      "outputs": []
    },
    {
      "cell_type": "code",
      "metadata": {
        "id": "3u7EfrwFo1vZ"
      },
      "source": [
        "h5f_data=h5py.File('/content/drive/MyDrive/elc/dataelc.h5','r')\n",
        "h5f_label=h5py.File('/content/drive/MyDrive/elc/labelselc.h5','r')"
      ],
      "execution_count": 16,
      "outputs": []
    },
    {
      "cell_type": "code",
      "metadata": {
        "id": "5vZuvi9co1va"
      },
      "source": [
        "global_features_string_train= h5f_data['dataset_1']\n",
        "global_labels_string_train=h5f_label['dataset_1']\n",
        "global_features_train=np.array(global_features_string_train)\n",
        "global_labels_train=np.array(global_labels_string_train)"
      ],
      "execution_count": 17,
      "outputs": []
    },
    {
      "cell_type": "code",
      "metadata": {
        "id": "aLBEAu2Jo1va"
      },
      "source": [
        "h5f_data.close()\n",
        "h5f_label.close()"
      ],
      "execution_count": 18,
      "outputs": []
    },
    {
      "cell_type": "code",
      "metadata": {
        "colab": {
          "base_uri": "https://localhost:8080/"
        },
        "id": "iOSy2VYso1vb",
        "outputId": "2448d30b-7485-41e0-eef6-a0d225eedd40"
      },
      "source": [
        "print(\"[Status] training feature shape: {}\".format(global_features_train.shape))\n",
        "\n",
        "print(\"[Status] labels shape: {}\".format(global_labels_train.shape))"
      ],
      "execution_count": 19,
      "outputs": [
        {
          "output_type": "stream",
          "text": [
            "[Status] training feature shape: (835, 1024)\n",
            "[Status] labels shape: (835,)\n"
          ],
          "name": "stdout"
        }
      ]
    },
    {
      "cell_type": "code",
      "metadata": {
        "id": "w08iFTQZo1vb"
      },
      "source": [
        "clf = svm.SVC(kernel='linear')"
      ],
      "execution_count": 20,
      "outputs": []
    },
    {
      "cell_type": "code",
      "metadata": {
        "id": "9kckhUuLo1vb"
      },
      "source": [
        "from sklearn.model_selection import KFold"
      ],
      "execution_count": 21,
      "outputs": []
    },
    {
      "cell_type": "code",
      "metadata": {
        "id": "naLa8M9Bo1vc"
      },
      "source": [
        "cv = KFold(n_splits=4, random_state=1, shuffle=True)"
      ],
      "execution_count": 22,
      "outputs": []
    },
    {
      "cell_type": "code",
      "metadata": {
        "id": "kBZ_duKAo1vc"
      },
      "source": [
        "scores = cross_val_score(clf,global_features_train,global_labels_train , scoring='accuracy', cv=cv, n_jobs=-1)"
      ],
      "execution_count": 23,
      "outputs": []
    },
    {
      "cell_type": "code",
      "metadata": {
        "colab": {
          "base_uri": "https://localhost:8080/"
        },
        "id": "HIx7gs45o1vc",
        "outputId": "49efb75c-9a5d-471f-fe42-33b3795c971d"
      },
      "source": [
        "from numpy import mean\n",
        "from numpy import std\n",
        "print('Accuracy: %.3f (%.3f)' % (mean(scores), std(scores)))"
      ],
      "execution_count": 24,
      "outputs": [
        {
          "output_type": "stream",
          "text": [
            "Accuracy: 0.796 (0.014)\n"
          ],
          "name": "stdout"
        }
      ]
    },
    {
      "cell_type": "code",
      "metadata": {
        "id": "ZE6GLGG4o1vd"
      },
      "source": [
        "from sklearn.model_selection import cross_val_predict\n",
        "y_pred = cross_val_predict(clf, global_features_train,global_labels_train , cv=10)\n",
        "conf_mat = confusion_matrix(global_labels_train, y_pred)"
      ],
      "execution_count": 25,
      "outputs": []
    },
    {
      "cell_type": "code",
      "metadata": {
        "colab": {
          "base_uri": "https://localhost:8080/"
        },
        "id": "immAVkl6o1vd",
        "outputId": "b596ed5b-6dc7-4b39-a2e2-4d0b972637be"
      },
      "source": [
        "print(\"Confusion matrix:\\n%s\" % conf_mat)"
      ],
      "execution_count": 26,
      "outputs": [
        {
          "output_type": "stream",
          "text": [
            "Confusion matrix:\n",
            "[[81  2  0  6  1  1  3  6  0  0]\n",
            " [11 78  0  5  0  2  1  2  1  0]\n",
            " [ 0  1 93  2  2  1  0  0  0  1]\n",
            " [ 4  7  4 80  0  0  1  0  3  0]\n",
            " [ 0  0  5  1 92  1  0  1  0  0]\n",
            " [ 2  3  1  1  1 40  0  0  4  2]\n",
            " [ 2  4  2  2  1  3 84  0  2  0]\n",
            " [25  6  2  1  6  0  2 58  0  0]\n",
            " [ 0  0  3  1  0  3  1  0 14  6]\n",
            " [ 1  0  3  4  1  3  0  0  7 35]]\n"
          ],
          "name": "stdout"
        }
      ]
    },
    {
      "cell_type": "code",
      "metadata": {
        "colab": {
          "base_uri": "https://localhost:8080/"
        },
        "id": "lkymxEF6o1vd",
        "outputId": "6b85833c-12b4-483a-b028-d1af46c5c58f"
      },
      "source": [
        "cv = KFold(n_splits=2, random_state=1, shuffle=True)\n",
        "scores = cross_val_score(clf,global_features_train,global_labels_train , scoring='accuracy', cv=cv, n_jobs=-1)\n",
        "print('Accuracy: %.3f (%.3f)' % (mean(scores), std(scores)))\n",
        "y_pred = cross_val_predict(clf, global_features_train,global_labels_train , cv=10)\n",
        "conf_mat = confusion_matrix(global_labels_train, y_pred)\n",
        "print(\"Confusion matrix:\\n%s\" % conf_mat)\n"
      ],
      "execution_count": 27,
      "outputs": [
        {
          "output_type": "stream",
          "text": [
            "Accuracy: 0.780 (0.015)\n",
            "Confusion matrix:\n",
            "[[81  2  0  6  1  1  3  6  0  0]\n",
            " [11 78  0  5  0  2  1  2  1  0]\n",
            " [ 0  1 93  2  2  1  0  0  0  1]\n",
            " [ 4  7  4 80  0  0  1  0  3  0]\n",
            " [ 0  0  5  1 92  1  0  1  0  0]\n",
            " [ 2  3  1  1  1 40  0  0  4  2]\n",
            " [ 2  4  2  2  1  3 84  0  2  0]\n",
            " [25  6  2  1  6  0  2 58  0  0]\n",
            " [ 0  0  3  1  0  3  1  0 14  6]\n",
            " [ 1  0  3  4  1  3  0  0  7 35]]\n"
          ],
          "name": "stdout"
        }
      ]
    },
    {
      "cell_type": "code",
      "metadata": {
        "colab": {
          "base_uri": "https://localhost:8080/"
        },
        "id": "fc1jQ8Myo1ve",
        "outputId": "452be657-798c-4938-e74f-d062b780729f"
      },
      "source": [
        "cv = KFold(n_splits=3, random_state=1, shuffle=True)\n",
        "scores = cross_val_score(clf,global_features_train,global_labels_train , scoring='accuracy', cv=cv, n_jobs=-1)\n",
        "print('Accuracy: %.3f (%.3f)' % (mean(scores), std(scores)))\n",
        "y_pred = cross_val_predict(clf, global_features_train,global_labels_train , cv=10)\n",
        "conf_mat = confusion_matrix(global_labels_train, y_pred)\n",
        "print(\"Confusion matrix:\\n%s\" % conf_mat)"
      ],
      "execution_count": 28,
      "outputs": [
        {
          "output_type": "stream",
          "text": [
            "Accuracy: 0.804 (0.023)\n",
            "Confusion matrix:\n",
            "[[81  2  0  6  1  1  3  6  0  0]\n",
            " [11 78  0  5  0  2  1  2  1  0]\n",
            " [ 0  1 93  2  2  1  0  0  0  1]\n",
            " [ 4  7  4 80  0  0  1  0  3  0]\n",
            " [ 0  0  5  1 92  1  0  1  0  0]\n",
            " [ 2  3  1  1  1 40  0  0  4  2]\n",
            " [ 2  4  2  2  1  3 84  0  2  0]\n",
            " [25  6  2  1  6  0  2 58  0  0]\n",
            " [ 0  0  3  1  0  3  1  0 14  6]\n",
            " [ 1  0  3  4  1  3  0  0  7 35]]\n"
          ],
          "name": "stdout"
        }
      ]
    },
    {
      "cell_type": "code",
      "metadata": {
        "colab": {
          "base_uri": "https://localhost:8080/"
        },
        "id": "hTkJZjnSuzSI",
        "outputId": "5159fbe3-648a-4b95-afda-ee9c9316d2e8"
      },
      "source": [
        "cv = KFold(n_splits=4, random_state=1, shuffle=True)\n",
        "scores = cross_val_score(clf,global_features_train,global_labels_train , scoring='accuracy', cv=cv, n_jobs=-1)\n",
        "print('Accuracy: %.3f (%.3f)' % (mean(scores), std(scores)))\n",
        "y_pred = cross_val_predict(clf, global_features_train,global_labels_train , cv=10)\n",
        "conf_mat = confusion_matrix(global_labels_train, y_pred)\n",
        "print(\"Confusion matrix:\\n%s\" % conf_mat)"
      ],
      "execution_count": 29,
      "outputs": [
        {
          "output_type": "stream",
          "text": [
            "Accuracy: 0.796 (0.014)\n",
            "Confusion matrix:\n",
            "[[81  2  0  6  1  1  3  6  0  0]\n",
            " [11 78  0  5  0  2  1  2  1  0]\n",
            " [ 0  1 93  2  2  1  0  0  0  1]\n",
            " [ 4  7  4 80  0  0  1  0  3  0]\n",
            " [ 0  0  5  1 92  1  0  1  0  0]\n",
            " [ 2  3  1  1  1 40  0  0  4  2]\n",
            " [ 2  4  2  2  1  3 84  0  2  0]\n",
            " [25  6  2  1  6  0  2 58  0  0]\n",
            " [ 0  0  3  1  0  3  1  0 14  6]\n",
            " [ 1  0  3  4  1  3  0  0  7 35]]\n"
          ],
          "name": "stdout"
        }
      ]
    },
    {
      "cell_type": "code",
      "metadata": {
        "colab": {
          "base_uri": "https://localhost:8080/"
        },
        "id": "yQg1h1wku4eH",
        "outputId": "6420da1b-28a2-4fba-90d1-22fd40007803"
      },
      "source": [
        "cv = KFold(n_splits=5, random_state=1, shuffle=True)\n",
        "scores = cross_val_score(clf,global_features_train,global_labels_train , scoring='accuracy', cv=cv, n_jobs=-1)\n",
        "print('Accuracy: %.3f (%.3f)' % (mean(scores), std(scores)))\n",
        "y_pred = cross_val_predict(clf, global_features_train,global_labels_train , cv=10)\n",
        "conf_mat = confusion_matrix(global_labels_train, y_pred)\n",
        "print(\"Confusion matrix:\\n%s\" % conf_mat)"
      ],
      "execution_count": 30,
      "outputs": [
        {
          "output_type": "stream",
          "text": [
            "Accuracy: 0.810 (0.040)\n",
            "Confusion matrix:\n",
            "[[81  2  0  6  1  1  3  6  0  0]\n",
            " [11 78  0  5  0  2  1  2  1  0]\n",
            " [ 0  1 93  2  2  1  0  0  0  1]\n",
            " [ 4  7  4 80  0  0  1  0  3  0]\n",
            " [ 0  0  5  1 92  1  0  1  0  0]\n",
            " [ 2  3  1  1  1 40  0  0  4  2]\n",
            " [ 2  4  2  2  1  3 84  0  2  0]\n",
            " [25  6  2  1  6  0  2 58  0  0]\n",
            " [ 0  0  3  1  0  3  1  0 14  6]\n",
            " [ 1  0  3  4  1  3  0  0  7 35]]\n"
          ],
          "name": "stdout"
        }
      ]
    },
    {
      "cell_type": "code",
      "metadata": {
        "colab": {
          "base_uri": "https://localhost:8080/"
        },
        "id": "ShYxYBPbu8PU",
        "outputId": "2108d237-69f1-4888-cbee-894eb65e93db"
      },
      "source": [
        "cv = KFold(n_splits=6, random_state=1, shuffle=True)\n",
        "scores = cross_val_score(clf,global_features_train,global_labels_train , scoring='accuracy', cv=cv, n_jobs=-1)\n",
        "print('Accuracy: %.3f (%.3f)' % (mean(scores), std(scores)))\n",
        "y_pred = cross_val_predict(clf, global_features_train,global_labels_train , cv=10)\n",
        "conf_mat = confusion_matrix(global_labels_train, y_pred)\n",
        "print(\"Confusion matrix:\\n%s\" % conf_mat)"
      ],
      "execution_count": 31,
      "outputs": [
        {
          "output_type": "stream",
          "text": [
            "Accuracy: 0.802 (0.042)\n",
            "Confusion matrix:\n",
            "[[81  2  0  6  1  1  3  6  0  0]\n",
            " [11 78  0  5  0  2  1  2  1  0]\n",
            " [ 0  1 93  2  2  1  0  0  0  1]\n",
            " [ 4  7  4 80  0  0  1  0  3  0]\n",
            " [ 0  0  5  1 92  1  0  1  0  0]\n",
            " [ 2  3  1  1  1 40  0  0  4  2]\n",
            " [ 2  4  2  2  1  3 84  0  2  0]\n",
            " [25  6  2  1  6  0  2 58  0  0]\n",
            " [ 0  0  3  1  0  3  1  0 14  6]\n",
            " [ 1  0  3  4  1  3  0  0  7 35]]\n"
          ],
          "name": "stdout"
        }
      ]
    },
    {
      "cell_type": "code",
      "metadata": {
        "colab": {
          "base_uri": "https://localhost:8080/"
        },
        "id": "qx6C6Ep1u_uN",
        "outputId": "d61774c4-db1e-4bac-f324-cd4409f550d9"
      },
      "source": [
        "cv = KFold(n_splits=7, random_state=1, shuffle=True)\n",
        "scores = cross_val_score(clf,global_features_train,global_labels_train , scoring='accuracy', cv=cv, n_jobs=-1)\n",
        "print('Accuracy: %.3f (%.3f)' % (mean(scores), std(scores)))\n",
        "y_pred = cross_val_predict(clf, global_features_train,global_labels_train , cv=10)\n",
        "conf_mat = confusion_matrix(global_labels_train, y_pred)\n",
        "print(\"Confusion matrix:\\n%s\" % conf_mat)"
      ],
      "execution_count": 32,
      "outputs": [
        {
          "output_type": "stream",
          "text": [
            "Accuracy: 0.806 (0.029)\n",
            "Confusion matrix:\n",
            "[[81  2  0  6  1  1  3  6  0  0]\n",
            " [11 78  0  5  0  2  1  2  1  0]\n",
            " [ 0  1 93  2  2  1  0  0  0  1]\n",
            " [ 4  7  4 80  0  0  1  0  3  0]\n",
            " [ 0  0  5  1 92  1  0  1  0  0]\n",
            " [ 2  3  1  1  1 40  0  0  4  2]\n",
            " [ 2  4  2  2  1  3 84  0  2  0]\n",
            " [25  6  2  1  6  0  2 58  0  0]\n",
            " [ 0  0  3  1  0  3  1  0 14  6]\n",
            " [ 1  0  3  4  1  3  0  0  7 35]]\n"
          ],
          "name": "stdout"
        }
      ]
    },
    {
      "cell_type": "code",
      "metadata": {
        "colab": {
          "base_uri": "https://localhost:8080/"
        },
        "id": "yv5FcnHmvBYC",
        "outputId": "87c897a0-2315-4e4b-bfec-73c904ea4139"
      },
      "source": [
        "cv = KFold(n_splits=8, random_state=1, shuffle=True)\n",
        "scores = cross_val_score(clf,global_features_train,global_labels_train , scoring='accuracy', cv=cv, n_jobs=-1)\n",
        "print('Accuracy: %.3f (%.3f)' % (mean(scores), std(scores)))\n",
        "y_pred = cross_val_predict(clf, global_features_train,global_labels_train , cv=10)\n",
        "conf_mat = confusion_matrix(global_labels_train, y_pred)\n",
        "print(\"Confusion matrix:\\n%s\" % conf_mat)"
      ],
      "execution_count": 33,
      "outputs": [
        {
          "output_type": "stream",
          "text": [
            "Accuracy: 0.801 (0.039)\n",
            "Confusion matrix:\n",
            "[[81  2  0  6  1  1  3  6  0  0]\n",
            " [11 78  0  5  0  2  1  2  1  0]\n",
            " [ 0  1 93  2  2  1  0  0  0  1]\n",
            " [ 4  7  4 80  0  0  1  0  3  0]\n",
            " [ 0  0  5  1 92  1  0  1  0  0]\n",
            " [ 2  3  1  1  1 40  0  0  4  2]\n",
            " [ 2  4  2  2  1  3 84  0  2  0]\n",
            " [25  6  2  1  6  0  2 58  0  0]\n",
            " [ 0  0  3  1  0  3  1  0 14  6]\n",
            " [ 1  0  3  4  1  3  0  0  7 35]]\n"
          ],
          "name": "stdout"
        }
      ]
    },
    {
      "cell_type": "code",
      "metadata": {
        "colab": {
          "base_uri": "https://localhost:8080/"
        },
        "id": "jTC3eQaZvCng",
        "outputId": "3f1caaee-02c5-462e-93b7-9e422fb67b85"
      },
      "source": [
        "cv = KFold(n_splits=9, random_state=1, shuffle=True)\n",
        "scores = cross_val_score(clf,global_features_train,global_labels_train , scoring='accuracy', cv=cv, n_jobs=-1)\n",
        "print('Accuracy: %.3f (%.3f)' % (mean(scores), std(scores)))\n",
        "y_pred = cross_val_predict(clf, global_features_train,global_labels_train , cv=10)\n",
        "conf_mat = confusion_matrix(global_labels_train, y_pred)\n",
        "print(\"Confusion matrix:\\n%s\" % conf_mat)"
      ],
      "execution_count": 34,
      "outputs": [
        {
          "output_type": "stream",
          "text": [
            "Accuracy: 0.815 (0.046)\n",
            "Confusion matrix:\n",
            "[[81  2  0  6  1  1  3  6  0  0]\n",
            " [11 78  0  5  0  2  1  2  1  0]\n",
            " [ 0  1 93  2  2  1  0  0  0  1]\n",
            " [ 4  7  4 80  0  0  1  0  3  0]\n",
            " [ 0  0  5  1 92  1  0  1  0  0]\n",
            " [ 2  3  1  1  1 40  0  0  4  2]\n",
            " [ 2  4  2  2  1  3 84  0  2  0]\n",
            " [25  6  2  1  6  0  2 58  0  0]\n",
            " [ 0  0  3  1  0  3  1  0 14  6]\n",
            " [ 1  0  3  4  1  3  0  0  7 35]]\n"
          ],
          "name": "stdout"
        }
      ]
    },
    {
      "cell_type": "code",
      "metadata": {
        "colab": {
          "base_uri": "https://localhost:8080/"
        },
        "id": "FTvnCEYZvDyG",
        "outputId": "ceacbada-bb35-4493-d5c3-63bd65c3c5ae"
      },
      "source": [
        "cv = KFold(n_splits=10, random_state=1, shuffle=True)\n",
        "scores = cross_val_score(clf,global_features_train,global_labels_train , scoring='accuracy', cv=cv, n_jobs=-1)\n",
        "print('Accuracy: %.3f (%.3f)' % (mean(scores), std(scores)))\n",
        "y_pred = cross_val_predict(clf, global_features_train,global_labels_train , cv=10)\n",
        "conf_mat = confusion_matrix(global_labels_train, y_pred)\n",
        "print(\"Confusion matrix:\\n%s\" % conf_mat)"
      ],
      "execution_count": 36,
      "outputs": [
        {
          "output_type": "stream",
          "text": [
            "Accuracy: 0.802 (0.048)\n",
            "Confusion matrix:\n",
            "[[81  2  0  6  1  1  3  6  0  0]\n",
            " [11 78  0  5  0  2  1  2  1  0]\n",
            " [ 0  1 93  2  2  1  0  0  0  1]\n",
            " [ 4  7  4 80  0  0  1  0  3  0]\n",
            " [ 0  0  5  1 92  1  0  1  0  0]\n",
            " [ 2  3  1  1  1 40  0  0  4  2]\n",
            " [ 2  4  2  2  1  3 84  0  2  0]\n",
            " [25  6  2  1  6  0  2 58  0  0]\n",
            " [ 0  0  3  1  0  3  1  0 14  6]\n",
            " [ 1  0  3  4  1  3  0  0  7 35]]\n"
          ],
          "name": "stdout"
        }
      ]
    },
    {
      "cell_type": "code",
      "metadata": {
        "id": "cpoRzbHTvFTZ"
      },
      "source": [
        ""
      ],
      "execution_count": null,
      "outputs": []
    }
  ]
}