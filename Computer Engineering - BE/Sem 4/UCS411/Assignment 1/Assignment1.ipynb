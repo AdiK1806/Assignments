{
 "cells": [
  {
   "cell_type": "code",
   "execution_count": null,
   "metadata": {},
   "outputs": [],
   "source": [
    "# Q1\n",
    "def fact(n):\n",
    "    f=1\n",
    "    for i in range(1,n):\n",
    "        f*=n\n",
    "    return f\n",
    "    \n",
    "def series(x,n):\n",
    "    sum=1\n",
    "\n",
    "    for i in range(1,n+1):\n",
    "        a=(x**n)/fact(n)\n",
    "        sum+=a\n",
    "    return sum\n",
    "\n",
    "x=int(input(\"Enter x\"))\n",
    "n=int(input(\"Enter n\"))\n",
    "print(series(x,n))"
   ]
  },
  {
   "cell_type": "code",
   "execution_count": null,
   "metadata": {},
   "outputs": [],
   "source": [
    "# Q2\n",
    "import random\n",
    "import math\n",
    "nums=list()\n",
    "for i in  range(100):\n",
    "    nums.append(random.randrange(100,900))\n",
    "\n",
    "evenlist=[i for i in nums if i%2==0]\n",
    "oddlist=[i for i in nums if i%2!=0]\n",
    "\n",
    "primelist=list()\n",
    "\n",
    "for x in nums:\n",
    "    c=0\n",
    "    for i in range(2,int(math.sqrt(x))):\n",
    "        if (x%i==0):\n",
    "            c+=1\n",
    "    if(c==0):\n",
    "        primelist.append(x)\n",
    "\n",
    "\n",
    "print(evenlist)\n",
    "print(oddlist)\n",
    "print(primelist)\n",
    "        \n",
    "\n",
    "\n"
   ]
  },
  {
   "cell_type": "code",
   "execution_count": null,
   "metadata": {},
   "outputs": [],
   "source": [
    "# Q3\n",
    "import math\n",
    "a=int(input(\"start\"))\n",
    "b=int(input(\"end\"))\n",
    "\n",
    "\n",
    "\n",
    "primelist = list()\n",
    "for i in range(a,b):\n",
    "    if i == 0 or i == 1:\n",
    "        continue\n",
    "    else:\n",
    "        for j in range(2, i//2+1):\n",
    "            if i % j == 0:\n",
    "                break\n",
    "        else:\n",
    "            primelist.append(i)\n",
    "\n",
    "print(primelist)\n"
   ]
  },
  {
   "cell_type": "code",
   "execution_count": null,
   "metadata": {},
   "outputs": [],
   "source": [
    "# Q4\n",
    "l1=eval(input(\"Enter list\"))\n",
    "l2=eval(input(\"Enter list\"))\n",
    "\n",
    "for i in l1:\n",
    "    if(i in l2):\n",
    "        print(i)"
   ]
  },
  {
   "cell_type": "code",
   "execution_count": null,
   "metadata": {},
   "outputs": [],
   "source": [
    "# Q5\n",
    "y1=int(input(\"Year1\"))\n",
    "y2=int(input(\"Year2\"))\n",
    "for i in range (y1,y2+1):\n",
    "    if(i%400==0):\n",
    "        print(i)\n",
    "    elif(i%4==0 and i%100!=0):\n",
    "        print(i)\n"
   ]
  },
  {
   "cell_type": "code",
   "execution_count": null,
   "metadata": {},
   "outputs": [],
   "source": [
    "# Q6\n",
    "basic=int(input(\"Basic Salary\"))\n",
    "if (basic<=10000):\n",
    "    print(\"HRA\", basic*20/100)\n",
    "    print(\"DA\", basic*80/100)\n",
    "elif (basic<=20000):\n",
    "    print(\"HRA\", basic*25/100)\n",
    "    print(\"DA\", basic*90/100)\n",
    "else:\n",
    "    print(\"HRA\", basic*30/100)\n",
    "    print(\"DA\", basic*95/100)\n"
   ]
  },
  {
   "cell_type": "code",
   "execution_count": null,
   "metadata": {},
   "outputs": [],
   "source": [
    "# Q7\n",
    "password=str(input(\"Enter password\"))\n",
    "def validity(password):\n",
    "    lower='abcdefghijklmnopqrstuvwxyz'\n",
    "    upper='ABCDEFGHIJKLMNOPQRSTUVWXYZ'\n",
    "    nums='1234567890'\n",
    "    spc='$#@'\n",
    "    if(len(password)<6 or len(password)>16):\n",
    "        print('this1')\n",
    "        return ' invalid'\n",
    "    c=0\n",
    "    for i in password:\n",
    "        if(i in lower):\n",
    "            c+=1\n",
    "            break\n",
    "    for i in password:\n",
    "        if(i in upper):\n",
    "            c+=1\n",
    "            break\n",
    "    for i in password:\n",
    "        if(i in nums):\n",
    "            c+=1\n",
    "            break\n",
    "    for i in password:\n",
    "        if(i in spc):\n",
    "            c+=1\n",
    "            break\n",
    "\n",
    "    if(c==4):\n",
    "        return 'valid'\n",
    "    return 'invalid'\n",
    "\n",
    "print(validity(password))\n",
    "        \n",
    "        "
   ]
  },
  {
   "cell_type": "code",
   "execution_count": null,
   "metadata": {},
   "outputs": [],
   "source": [
    "# Q8\n",
    "L = [10, 20, 30, 40, 50, 60, 70, 80]\n",
    "L.append(200)\n",
    "L.append(300)\n",
    "print(L)\n",
    "L.sort()\n",
    "print(L)\n",
    "\n",
    "L.reverse()\n",
    "print(L)\n"
   ]
  },
  {
   "cell_type": "code",
   "execution_count": null,
   "metadata": {},
   "outputs": [],
   "source": [
    "# Q9\n",
    "D =  {1: \"One\" , 2: \"Two\", 3: \"Three\", 4: \"Four\", 5: \"Five\"}\n",
    "# i\n",
    "D[6]='Six'\n",
    "print(D)\n",
    "# ii\n",
    "del D[2]\n",
    "print(D)\n",
    "# iii\n",
    "if  6 in D.keys():\n",
    "    print(\"Present\")\n",
    "else:\n",
    "    print(\"Not present\")\n",
    "\n",
    "# iv\n",
    "print(len(D))\n",
    "# v\n",
    "sum=0\n",
    "for i in D.keys():\n",
    "    sum+=i\n",
    "print(sum)"
   ]
  },
  {
   "cell_type": "code",
   "execution_count": null,
   "metadata": {},
   "outputs": [],
   "source": [
    "# Q10i\n",
    "def compoundinterest(p,r,t):\n",
    "    amt=p*((1+(r/100)))**t\n",
    "    return amt\n",
    "p=1000\n",
    "t=10\n",
    "r=2\n",
    "print(compoundinterest(p,r,t))"
   ]
  },
  {
   "cell_type": "code",
   "execution_count": null,
   "metadata": {},
   "outputs": [],
   "source": [
    "# q10ii\n",
    "import  Q10\n",
    "# importing compound interest function from Q10.py\n",
    "p = 1000\n",
    "t = 10\n",
    "r = 8\n",
    "print(compoundinterest(p, r, t))\n"
   ]
  }
 ],
 "metadata": {
  "interpreter": {
   "hash": "465c5b201858e001f3de52224df420302c022e48111b8e1e8429acbdd8e1444a"
  },
  "kernelspec": {
   "display_name": "Python 3.9.7 64-bit",
   "language": "python",
   "name": "python3"
  },
  "language_info": {
   "codemirror_mode": {
    "name": "ipython",
    "version": 3
   },
   "file_extension": ".py",
   "mimetype": "text/x-python",
   "name": "python",
   "nbconvert_exporter": "python",
   "pygments_lexer": "ipython3",
   "version": "3.9.7"
  },
  "orig_nbformat": 4
 },
 "nbformat": 4,
 "nbformat_minor": 2
}
