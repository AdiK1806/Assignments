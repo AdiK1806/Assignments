{
 "cells": [
  {
   "cell_type": "code",
   "execution_count": 1,
   "id": "63fdf4f3-581c-4907-9c03-41e8e786912a",
   "metadata": {},
   "outputs": [
    {
     "name": "stdout",
     "output_type": "stream",
     "text": [
      "[(1, 2, 3, 4), (1, 2, 4, 3), (1, 3, 2, 4), (1, 3, 4, 2), (1, 4, 2, 3), (1, 4, 3, 2), (2, 1, 3, 4), (2, 1, 4, 3), (2, 3, 1, 4), (2, 3, 4, 1), (2, 4, 1, 3), (2, 4, 3, 1), (3, 1, 2, 4), (3, 1, 4, 2), (3, 2, 1, 4), (3, 2, 4, 1), (3, 4, 1, 2), (3, 4, 2, 1), (4, 1, 2, 3), (4, 1, 3, 2), (4, 2, 1, 3), (4, 2, 3, 1), (4, 3, 1, 2), (4, 3, 2, 1)]\n",
      "the route is : (1, 2, 3, 4)\n",
      "the cost of route is:  95\n",
      "the route is : (1, 2, 4, 3)\n",
      "the cost of route is:  80\n",
      "the route is : (1, 3, 2, 4)\n",
      "the cost of route is:  95\n",
      "the route is : (1, 3, 4, 2)\n",
      "the cost of route is:  80\n",
      "the route is : (1, 4, 2, 3)\n",
      "the cost of route is:  95\n",
      "the route is : (1, 4, 3, 2)\n",
      "the cost of route is:  95\n",
      "the best route is : (1, 2, 4, 3)\n",
      "cost of the route is : 80\n"
     ]
    }
   ],
   "source": [
    "#KUnal Demla\n",
    "\n",
    "graph=[[0, 10, 15, 20],\n",
    "       [10, 0, 35, 25],\n",
    "       [15, 35, 0, 30],\n",
    "       [20, 25, 30, 0]]\n",
    "from itertools import permutations\n",
    "l = list(permutations(range(1, 4+1))) \n",
    "print (l)                        \n",
    "min=999                         \n",
    "for x in l:\n",
    "    if x[0]==1:        \n",
    "        print (\"the route is :\", x) \n",
    "        sum=0\n",
    "    \n",
    "        for j in range(0,len(x)):\n",
    "            if (j==(len(x)-1)):\n",
    "                sum=sum+graph[x[j]-1][x[0]-1]\n",
    "                print(\"the cost of route is: \",sum)\n",
    "            else:\n",
    "                sum=sum+graph[x[j]-1][x[j+1]-1]\n",
    "                \n",
    "                \n",
    "        if sum<min:\n",
    "            min=sum\n",
    "            temp=x\n",
    "        \n",
    "\n",
    "print(\"the best route is :\",temp)\n",
    "print(\"cost of the route is :\",min)\n"
   ]
  }
 ],
 "metadata": {
  "kernelspec": {
   "display_name": "Python 3 (ipykernel)",
   "language": "python",
   "name": "python3"
  },
  "language_info": {
   "codemirror_mode": {
    "name": "ipython",
    "version": 3
   },
   "file_extension": ".py",
   "mimetype": "text/x-python",
   "name": "python",
   "nbconvert_exporter": "python",
   "pygments_lexer": "ipython3",
   "version": "3.9.7"
  }
 },
 "nbformat": 4,
 "nbformat_minor": 5
}
