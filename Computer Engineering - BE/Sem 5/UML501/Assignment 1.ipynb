{
 "cells": [
  {
   "cell_type": "code",
   "execution_count": 8,
   "metadata": {},
   "outputs": [],
   "source": [
    "import numpy as np"
   ]
  },
  {
   "cell_type": "code",
   "execution_count": 3,
   "metadata": {},
   "outputs": [
    {
     "name": "stdout",
     "output_type": "stream",
     "text": [
      "[5 4 6 3 2 1]\n"
     ]
    }
   ],
   "source": [
    "# Q1a\n",
    "arr = np.array([1, 2, 3, 6, 4, 5])\n",
    "rev=np.flip(arr)\n",
    "print(rev)"
   ]
  },
  {
   "cell_type": "code",
   "execution_count": 2,
   "metadata": {},
   "outputs": [
    {
     "name": "stdout",
     "output_type": "stream",
     "text": [
      "[1 2 3 2 4 5 1 2 3]\n"
     ]
    }
   ],
   "source": [
    "# Q1b\n",
    "array1 = np.array([[1, 2, 3], [2, 4, 5], [1, 2, 3]])\n",
    "x=array1.flatten()\n",
    "flat=x.flatten()\n",
    "print(flat)\n"
   ]
  },
  {
   "cell_type": "code",
   "execution_count": 4,
   "metadata": {},
   "outputs": [
    {
     "name": "stdout",
     "output_type": "stream",
     "text": [
      "Equal\n"
     ]
    }
   ],
   "source": [
    "# Q1c\n",
    "arr1 = np.array([[1, 2], [3, 4]])\n",
    "arr2 = np.array([[1, 2], [3, 4]])\n",
    "if(arr1.all()>arr2.all()):\n",
    "    print(\"1st\")\n",
    "    \n",
    "elif(arr1.all()<arr2.all()):\n",
    "    print(\"2nd\")\n",
    "else:\n",
    "    print(\"Equal\")\n"
   ]
  },
  {
   "cell_type": "code",
   "execution_count": 5,
   "metadata": {},
   "outputs": [
    {
     "name": "stdout",
     "output_type": "stream",
     "text": [
      "[5 2 1 1 1]\n",
      "[0 1 2 3 4]\n",
      "[3 2 3 2]\n",
      "[0 3 4 5]\n"
     ]
    }
   ],
   "source": [
    "# Q1d\n",
    "x = np.array([1,2,3,4,5,1,2,1,1,1]) \n",
    "y = np.array([1, 1, 1, 2, 3, 4, 2, 4, 3, 3, ])\n",
    "unique_rows, indices, occurrence_count = np.unique(x, axis=0, return_counts=True, return_index=True)\n",
    "print(occurrence_count)\n",
    "print(indices)\n",
    "\n",
    "unique_rows, indices, occurrence_count = np.unique(y, axis=0, return_counts=True, return_index=True)\n",
    "print(occurrence_count)\n",
    "print(indices)"
   ]
  },
  {
   "cell_type": "code",
   "execution_count": 6,
   "metadata": {},
   "outputs": [
    {
     "name": "stdout",
     "output_type": "stream",
     "text": [
      "45\n",
      "[[14]\n",
      " [16]\n",
      " [15]]\n",
      "[[20  9 16]]\n"
     ]
    }
   ],
   "source": [
    "# Q1e\n",
    "gfg = np.matrix('[4, 1, 9; 12, 3, 1; 4, 5, 6]')\n",
    "print(gfg.sum())\n",
    "print(gfg.sum(axis=1))  #rowise\n",
    "print(gfg.sum(axis=0))  #columnwise"
   ]
  },
  {
   "cell_type": "code",
   "execution_count": 8,
   "metadata": {},
   "outputs": [
    {
     "name": "stdout",
     "output_type": "stream",
     "text": [
      "176\n",
      "[98.16835147 28.097044   49.73460452]\n",
      "[[ 0.4574917   0.34637121 -0.15017693]\n",
      " [ 0.28447814 -0.72784061 -0.4852124 ]\n",
      " [ 0.84248058  0.59184038  0.8614034 ]]\n",
      "[[ 0.02404141 -0.00911212 -0.00444671]\n",
      " [-0.01667882  0.02966905  0.0024785 ]\n",
      " [ 0.00631287 -0.01603732  0.01217379]]\n",
      "137180.0000000001\n"
     ]
    }
   ],
   "source": [
    "# Q1f\n",
    "n_array = np.array([[55, 25, 15],[30, 44, 2],[11, 45, 77]])\n",
    "print(np.trace(n_array))\n",
    "n_array = np.array([[55, 25, 15],[30, 44, 2],[11, 45, 77]])\n",
    "from numpy import linalg as LA\n",
    "w, v = LA.eig(((n_array)))\n",
    "print(w) #values\n",
    "print(v) #vector\n",
    "print(LA.inv(n_array)) #inverse\n",
    "print(LA.det(n_array)) #determinant\n"
   ]
  },
  {
   "cell_type": "code",
   "execution_count": 9,
   "metadata": {},
   "outputs": [
    {
     "name": "stdout",
     "output_type": "stream",
     "text": [
      "[[16 19]\n",
      " [26 31]]\n",
      "[[ 4.5  7.5]\n",
      " [ 7.5 12.5]]\n",
      "[[ 54.33333333  89.16666667 158.83333333]\n",
      " [ 89.16666667 146.33333333 260.66666667]\n",
      " [158.83333333 260.66666667 464.33333333]]\n",
      "[[16 19  5]\n",
      " [26 31  8]\n",
      " [46 55 14]]\n"
     ]
    }
   ],
   "source": [
    "# Q1g\n",
    "p = [[1, 2], [2, 3]]\n",
    "q = [[4, 5], [6, 7]]\n",
    "p1 = [[1, 2], [2, 3], [4, 5]]\n",
    "q1 = [[4, 5, 1], [6, 7, 2]]\n",
    "\n",
    "\n",
    "x=np.matmul(p,q)\n",
    "print(x)\n",
    "print(np.cov(x))\n",
    "x1=np.matmul(p1,q1)\n",
    "print(np.cov(x1))\n",
    "print(x1)\n",
    "\n",
    "\n"
   ]
  },
  {
   "cell_type": "code",
   "execution_count": 10,
   "metadata": {},
   "outputs": [
    {
     "name": "stdout",
     "output_type": "stream",
     "text": [
      "[[17 52]\n",
      " [13 62]]\n",
      "[[ 2 10  0 10 20  6]\n",
      " [ 3 15  0 15 30  9]\n",
      " [ 4 20  0 20 40 12]\n",
      " [ 3 15  0 15 30  9]\n",
      " [ 2 10  0 10 20  6]\n",
      " [ 9 45  0 45 90 27]]\n",
      "[[ 1]\n",
      " [ 1]\n",
      " [ 5]\n",
      " [ 5]\n",
      " [ 0]\n",
      " [ 0]\n",
      " [ 5]\n",
      " [ 5]\n",
      " [10]\n",
      " [10]\n",
      " [ 3]\n",
      " [ 3]]\n"
     ]
    }
   ],
   "source": [
    "# Q1h\n",
    "\n",
    "x = np.array([[2, 3, 4], [3, 2, 9]])\n",
    "y = np.array([[1, 5, 0], [5, 10, 3]])\n",
    "\n",
    "print(np.inner(x,y))\n",
    "print(np.outer(x,y))\n",
    "\n",
    "cross_product = np.transpose([np.repeat(y,len(x))])\n",
    "print(cross_product)"
   ]
  },
  {
   "cell_type": "code",
   "execution_count": 11,
   "metadata": {},
   "outputs": [
    {
     "name": "stdout",
     "output_type": "stream",
     "text": [
      "[[1 2 3]\n",
      " [4 5 6]]\n",
      "arr :  [[ 1 -2  3]\n",
      " [-4  5 -6]]\n",
      "50th percentile of arr :  -0.5\n",
      "25th percentile of arr :  -3.5\n",
      "75th percentile of arr :  2.5\n",
      "mean -0.5\n",
      "median -0.5\n",
      "std dev 3.8622100754188224\n"
     ]
    }
   ],
   "source": [
    "# Q2a\n",
    "arr = np.array([[1, -2, 3],[-4, 5, -6]])\n",
    "print(np.absolute(arr))\n",
    "print(\"arr : \", arr)\n",
    "print(\"50th percentile of arr : \",np.percentile(arr, 50))\n",
    "print(\"25th percentile of arr : \",np.percentile(arr, 25))\n",
    "print(\"75th percentile of arr : \",np.percentile(arr, 75))\n",
    "\n",
    "print(\"mean\",np.mean(arr))\n",
    "print(\"median\",np.median(arr))\n",
    "print(\"std dev\",np.std(arr))\n"
   ]
  },
  {
   "cell_type": "code",
   "execution_count": 36,
   "metadata": {},
   "outputs": [
    {
     "name": "stdout",
     "output_type": "stream",
     "text": [
      "[-2. -2. -1.  0.  1.  1.  3.]\n",
      "[-1. -1. -0.  1.  2.  2.  3.]\n",
      "[-1. -1. -0.  0.  1.  1.  3.]\n",
      "[-2. -2. -0.  0.  2.  2.  3.]\n"
     ]
    }
   ],
   "source": [
    "# Q2b\n",
    "a = np.array([-1.8, -1.6, -0.5, 0.5,1.6, 1.8, 3.0])\n",
    "print(np.floor(a))\n",
    "print(np.ceil(a))\n",
    "print(np.trunc(a))\n",
    "print(np.round(a))"
   ]
  },
  {
   "cell_type": "code",
   "execution_count": 41,
   "metadata": {},
   "outputs": [
    {
     "name": "stdout",
     "output_type": "stream",
     "text": [
      "[ 10  16  16  52  54  62 453]\n",
      "(array([0], dtype=int64),)\n",
      "(array([3, 4], dtype=int64),)\n",
      "(array([3, 4], dtype=int64),)\n",
      "(array([1], dtype=int64),)\n",
      "(array([5], dtype=int64),)\n",
      "(array([2], dtype=int64),)\n",
      "(array([6], dtype=int64),)\n",
      "[10 16 16 52]\n",
      "[ 16  52  54  62 453]\n"
     ]
    }
   ],
   "source": [
    "# Q3a\n",
    "array = np.array([10, 52, 62, 16, 16, 54, 453])\n",
    "x=np.sort(array)\n",
    "print(x)\n",
    "\n",
    "for item in x:\n",
    "    itemindex = np.where(array == item)\n",
    "    print(itemindex)\n",
    "\n",
    "print(x[:4])\n",
    "print(x[len(x)-5:])"
   ]
  },
  {
   "cell_type": "code",
   "execution_count": 14,
   "metadata": {},
   "outputs": [
    {
     "name": "stdout",
     "output_type": "stream",
     "text": [
      "1.0\n",
      "1.2\n",
      "2.2\n",
      "2.0\n",
      "3.0\n",
      "2.0\n",
      "1.0\n"
     ]
    }
   ],
   "source": [
    "# Q3b\n",
    "array = np.array([1.0, 1.2, 2.2, 2.0, 3.0, 2.0,1])\n",
    "\n",
    "for i in array:\n",
    "    if(np.dtype(i)=='int'):\n",
    "        print(i)\n",
    "    elif(np.dtype(i)=='float64'):\n",
    "        print(i)"
   ]
  },
  {
   "cell_type": "code",
   "execution_count": 4,
   "metadata": {},
   "outputs": [
    {
     "name": "stdout",
     "output_type": "stream",
     "text": [
      "(1066, 640, 3)\n"
     ]
    },
    {
     "ename": "",
     "evalue": "",
     "output_type": "error",
     "traceback": [
      "The Kernel crashed while executing code in the the current cell or a previous cell. Please review the code in the cell(s) to identify a possible cause of the failure. Click <a href='https://aka.ms/vscodeJupyterKernelCrash'>here</a> for more info. View Jupyter <a href='command:jupyter.viewOutput'>log</a> for further details."
     ]
    }
   ],
   "source": [
    "# Q4\n",
    "from PIL import Image\n",
    "import numpy as np\n",
    "import cv2\n",
    "path=\"tower.jpg\"\n",
    "im = Image.open(path) # img size (42, 349, 4)\n",
    "np_im = np.array(im)\n",
    "print(np_im.shape)\n",
    "with open('imgfile.txt', 'w') as outfile:\n",
    "    for slice_2d in np_im:\n",
    "         np.savetxt(outfile, slice_2d)\n",
    "             \n",
    "p=cv2.imread(\"tower.jpg\")\n",
    "cv2.imshow(\"image\",p)"
   ]
  }
 ],
 "metadata": {
  "kernelspec": {
   "display_name": "Python 3.10.2 64-bit",
   "language": "python",
   "name": "python3"
  },
  "language_info": {
   "codemirror_mode": {
    "name": "ipython",
    "version": 3
   },
   "file_extension": ".py",
   "mimetype": "text/x-python",
   "name": "python",
   "nbconvert_exporter": "python",
   "pygments_lexer": "ipython3",
   "version": "3.10.2"
  },
  "orig_nbformat": 4,
  "vscode": {
   "interpreter": {
    "hash": "e8bba4f2be892cbd4f39a9f240acc2c7ebb8cef7264d56c87dbb8c6b0bcbe231"
   }
  }
 },
 "nbformat": 4,
 "nbformat_minor": 2
}
